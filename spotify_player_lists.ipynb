{
  "nbformat": 4,
  "nbformat_minor": 0,
  "metadata": {
    "colab": {
      "provenance": []
    },
    "kernelspec": {
      "name": "python3",
      "display_name": "Python 3"
    },
    "language_info": {
      "name": "python"
    }
  },
  "cells": [
    {
      "cell_type": "code",
      "execution_count": 67,
      "metadata": {
        "id": "EiqpzO4Y2mfF"
      },
      "outputs": [],
      "source": [
        "import requests\n",
        "from bs4 import BeautifulSoup\n",
        "import re\n",
        "import pandas as pd\n",
        "from datetime import datetime"
      ]
    },
    {
      "cell_type": "code",
      "source": [
        "def get_spotify_data(url, headers):\n",
        "  response = requests.get(url = url, headers = headers)\n",
        "  if response.status_code == 200:\n",
        "    response.encoding = 'utf-8'\n",
        "  else:\n",
        "    print(\"Error connection\")\n",
        "  spotify_html = response.text\n",
        "  spotify_bs4 = BeautifulSoup(spotify_html,parser = \"html.parser\")\n",
        "  spotify_data = spotify_bs4.find_all(\"table\",class_ = \"sortable\")[0].find_all(\"tr\")\n",
        "  return spotify_data"
      ],
      "metadata": {
        "id": "fe4oTrzv80CB"
      },
      "execution_count": 68,
      "outputs": []
    },
    {
      "cell_type": "code",
      "source": [
        "def get_columns(spotify_data):\n",
        "  columns = []\n",
        "  for item in spotify_data[0].find_all(\"th\"):\n",
        "    columns.append(item.text)\n",
        "  # print(columns)\n",
        "\n",
        "  # 調整PK,x,Artist,Title\n",
        "  index_pk = columns.index(\"Pk\")\n",
        "  index_a_t = columns.index(\"Artist and Title\")\n",
        "\n",
        "  columns[index_pk+1] = \"x\"\n",
        "  columns = [\"Artist\",\"Title\"]+ columns[index_a_t+1:]\n",
        "\n",
        "  return columns, index_pk, index_a_t"
      ],
      "metadata": {
        "id": "uNScGrCo4UK4"
      },
      "execution_count": 69,
      "outputs": []
    },
    {
      "cell_type": "code",
      "source": [
        "def get_rows(spotify_data, index_pk, index_a_t):\n",
        "  rows = []\n",
        "  for item in spotify_data[1:]:\n",
        "    # 分行\n",
        "    all_elements = item.text.split(\"\\n\")\n",
        "    # 去空字串\n",
        "    elements_not_empty = [e for e in all_elements if e != '']\n",
        "    # 分開歌手與歌名\n",
        "    artist_and_title = result = re.split(r'\\s-\\s', elements_not_empty[index_a_t])\n",
        "\n",
        "    artist = artist_and_title[0]\n",
        "    title = artist_and_title[-1]\n",
        "    # 分開pk 和 x (peak和?)\n",
        "    pk = int(elements_not_empty[index_pk].split(\"(\")[0].replace(\",\",\"\"))\n",
        "    try:\n",
        "      x = int(elements_not_empty[index_pk].split(\"(\")[1][1:-1])\n",
        "    except:\n",
        "      x = \"\"\n",
        "    # 組合成一列\n",
        "    r1 = [artist,title]\n",
        "    r2 = [int(e.replace(\",\",\"\")) for e in elements_not_empty[index_a_t+1:index_pk]]\n",
        "    r3 = [pk,x]\n",
        "    r4 = [int(e.replace(\",\",\"\")) for e in elements_not_empty[index_pk+1:]]\n",
        "    row = r1+r2+r3+r4\n",
        "\n",
        "    rows.append(row)\n",
        "\n",
        "  return rows"
      ],
      "metadata": {
        "id": "zjWK6XkT5bTn"
      },
      "execution_count": null,
      "outputs": []
    },
    {
      "cell_type": "code",
      "source": [
        "def to_csv(df,web_page_name):\n",
        "  standard_year = datetime.now().date().year\n",
        "  standard_month = datetime.now().date().month\n",
        "  standard_day = datetime.now().date().day\n",
        "  standard_hour = datetime.now().hour\n",
        "  standard_minute = datetime.now().minute\n",
        "  file_name = \\\n",
        "  f\"{web_page_name}_{standard_year}_{standard_month:02d}_{standard_day:02d}\"+ \\\n",
        "  f\"_{standard_hour:02d}{standard_minute:02d}.csv\"\n",
        "  df.to_csv(file_name,encoding = \"utf-8\")"
      ],
      "metadata": {
        "id": "eTZ_OJms6Q_J"
      },
      "execution_count": null,
      "outputs": []
    },
    {
      "cell_type": "code",
      "source": [
        "country_codes = [\"TW\",\"US\"]\n",
        "time_spans = [\"daily\",\"weekly\"]\n",
        "# total : data 2014_8_10-today\n",
        "total = False #True\n",
        "headers ={\n",
        "    \"User-Agent\": \\\n",
        "    \"Mozilla/5.0 (Linux; Android 6.0; Nexus 5 Build/MRA58N) \\\n",
        "    AppleWebKit/537.36 (KHTML, like Gecko) \\\n",
        "    Chrome/127.0.0.0 Mobile Safari/537.36\"\n",
        "}"
      ],
      "metadata": {
        "id": "IQlz3dF-2xOY"
      },
      "execution_count": 73,
      "outputs": []
    },
    {
      "cell_type": "code",
      "source": [
        "for country in [name.lower() for name in country_codes]:\n",
        "  for time_span in time_spans:\n",
        "    web_page_name = f\"{country}_{time_span}{'_totals'*total}\"\n",
        "    url = f\"https://kworb.net/spotify/country/{web_page_name}.html\"\n",
        "    spotify_data = get_spotify_data(url, headers)\n",
        "    # print(columns)\n",
        "    columns, *index = get_columns(spotify_data)\n",
        "    rows = get_rows(spotify_data, *index)\n",
        "    # print(rows)\n",
        "    df = pd.DataFrame(rows,columns = columns)\n",
        "    # print(\"country\")\n",
        "    # display(df.head())\n",
        "    to_csv(df,web_page_name)"
      ],
      "metadata": {
        "id": "JER0Rx5Y3AEw"
      },
      "execution_count": 72,
      "outputs": []
    }
  ]
}