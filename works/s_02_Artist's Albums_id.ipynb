{
 "cells": [
  {
   "cell_type": "code",
   "execution_count": 1,
   "metadata": {},
   "outputs": [
    {
     "name": "stdout",
     "output_type": "stream",
     "text": [
      "Requirement already satisfied: pandas in c:\\users\\t14 gen 3\\appdata\\local\\programs\\python\\python312\\lib\\site-packages (2.2.2)\n",
      "Requirement already satisfied: numpy>=1.26.0 in c:\\users\\t14 gen 3\\appdata\\local\\programs\\python\\python312\\lib\\site-packages (from pandas) (2.0.1)\n",
      "Requirement already satisfied: python-dateutil>=2.8.2 in c:\\users\\t14 gen 3\\appdata\\roaming\\python\\python312\\site-packages (from pandas) (2.9.0.post0)\n",
      "Requirement already satisfied: pytz>=2020.1 in c:\\users\\t14 gen 3\\appdata\\local\\programs\\python\\python312\\lib\\site-packages (from pandas) (2024.1)\n",
      "Requirement already satisfied: tzdata>=2022.7 in c:\\users\\t14 gen 3\\appdata\\local\\programs\\python\\python312\\lib\\site-packages (from pandas) (2024.1)\n",
      "Requirement already satisfied: six>=1.5 in c:\\users\\t14 gen 3\\appdata\\roaming\\python\\python312\\site-packages (from python-dateutil>=2.8.2->pandas) (1.16.0)\n",
      "Note: you may need to restart the kernel to use updated packages.\n"
     ]
    },
    {
     "name": "stderr",
     "output_type": "stream",
     "text": [
      "\n",
      "[notice] A new release of pip is available: 24.0 -> 24.2\n",
      "[notice] To update, run: python.exe -m pip install --upgrade pip\n"
     ]
    }
   ],
   "source": [
    "pip install pandas"
   ]
  },
  {
   "cell_type": "code",
   "execution_count": 2,
   "metadata": {},
   "outputs": [
    {
     "name": "stdout",
     "output_type": "stream",
     "text": [
      "Requirement already satisfied: requests in c:\\users\\t14 gen 3\\appdata\\local\\programs\\python\\python312\\lib\\site-packages (2.32.3)\n",
      "Requirement already satisfied: charset-normalizer<4,>=2 in c:\\users\\t14 gen 3\\appdata\\local\\programs\\python\\python312\\lib\\site-packages (from requests) (3.3.2)\n",
      "Requirement already satisfied: idna<4,>=2.5 in c:\\users\\t14 gen 3\\appdata\\local\\programs\\python\\python312\\lib\\site-packages (from requests) (3.7)\n",
      "Requirement already satisfied: urllib3<3,>=1.21.1 in c:\\users\\t14 gen 3\\appdata\\local\\programs\\python\\python312\\lib\\site-packages (from requests) (2.2.2)\n",
      "Requirement already satisfied: certifi>=2017.4.17 in c:\\users\\t14 gen 3\\appdata\\local\\programs\\python\\python312\\lib\\site-packages (from requests) (2024.7.4)\n",
      "Note: you may need to restart the kernel to use updated packages.\n"
     ]
    },
    {
     "name": "stderr",
     "output_type": "stream",
     "text": [
      "\n",
      "[notice] A new release of pip is available: 24.0 -> 24.2\n",
      "[notice] To update, run: python.exe -m pip install --upgrade pip\n"
     ]
    }
   ],
   "source": [
    "pip install requests"
   ]
  },
  {
   "cell_type": "code",
   "execution_count": 9,
   "metadata": {},
   "outputs": [],
   "source": [
    "import requests\n",
    "\n",
    "import pandas as pd\n",
    "\n",
    "client_id = \"45da58455f7f46d5b30b0b8a117fa452\"\n",
    "client_secret = \"7dd2efbeaecd4fd08136e682f7610f48\"\n",
    "\n",
    "\n",
    "# 獲取 access_token\n",
    "def get_access_token():\n",
    "    url = \"https://accounts.spotify.com/api/token\"\n",
    "    headers = {\n",
    "        \"Content-Type\": \"application/x-www-form-urlencoded\"\n",
    "    }\n",
    "    data = {\n",
    "        \"grant_type\": \"client_credentials\"\n",
    "    }\n",
    "    response = requests.post(url, headers=headers, data=data, auth=(client_id, client_secret))\n",
    "    return response.json().get('access_token')\n",
    "\n",
    "\n",
    "# 查詢歌手專輯 ID\n",
    "def get_artist_album_id(artist_id, access_token):\n",
    "    url = f\"https://api.spotify.com/v1/artists/{artist_id}/albums\"\n",
    "    headers = {\n",
    "        \"Authorization\": f\"Bearer {access_token}\"\n",
    "    }\n",
    "    response = requests.get(url, headers=headers)\n",
    "    data = response.json()\n",
    "\n",
    "    # 取得專輯 ID\n",
    "    albums = data.get('items', [])\n",
    "    artist_album_id = [album[\"id\"] for album in albums]\n",
    "\n",
    "    return artist_album_id\n",
    "\n",
    "\n",
    "# 主程式\n",
    "def main():\n",
    "    access_token = get_access_token()\n",
    "\n",
    "    # 讀取 CSV\n",
    "    artist_ids_path = r\"C:\\Users\\T14 Gen 3\\Desktop\\KKbox_Spotify\\artist_ids.csv\"\n",
    "    df = pd.read_csv(artist_ids_path)\n",
    "      \n",
    "    artist_album_ids = {}\n",
    "\n",
    "    for index, row in df.iterrows():\n",
    "        artist_id = row['artist_id']\n",
    "        album_ids = get_artist_album_id(artist_id, access_token)\n",
    "        artist_album_ids[artist_id] = album_ids\n",
    "   \n",
    "\n",
    "    # 將查詢結果存入 DataFrame\n",
    "    result_data = []\n",
    "    for artist_id, album_ids in artist_album_ids.items():\n",
    "        for album_id in album_ids:  # 將每個專輯 ID 展開\n",
    "            result_data.append({'Artist_id': artist_id, 'Artist_album_id': album_id})\n",
    "    result_df = pd.DataFrame(result_data)\n",
    "\n",
    "    # 保存結果到 CSV\n",
    "    result_csv_path = r\"C:\\Users\\T14 Gen 3\\Desktop\\KKbox_Spotify\\artist_album_ids.csv\"\n",
    "    result_df.to_csv(result_csv_path, index=False)\n",
    "    \n",
    "\n",
    "if __name__ == \"__main__\":\n",
    "    main()"
   ]
  }
 ],
 "metadata": {
  "kernelspec": {
   "display_name": "Python 3",
   "language": "python",
   "name": "python3"
  },
  "language_info": {
   "codemirror_mode": {
    "name": "ipython",
    "version": 3
   },
   "file_extension": ".py",
   "mimetype": "text/x-python",
   "name": "python",
   "nbconvert_exporter": "python",
   "pygments_lexer": "ipython3",
   "version": "3.12.4"
  }
 },
 "nbformat": 4,
 "nbformat_minor": 2
}
