{
 "cells": [
  {
   "cell_type": "code",
   "execution_count": null,
   "metadata": {},
   "outputs": [],
   "source": [
    "pip install pandas"
   ]
  },
  {
   "cell_type": "code",
   "execution_count": 9,
   "metadata": {},
   "outputs": [],
   "source": [
    "import pandas as pd\n",
    "\n",
    "file_path_artist_ids = r\"C:\\Users\\T14 Gen 3\\Desktop\\KKbox_Spotify\\artist_ids.csv\"\n",
    "file_path_artist_album_ids = r\"C:\\Users\\T14 Gen 3\\Desktop\\KKbox_Spotify\\artist_album_ids.csv\"\n",
    "\n",
    "artist_ids = pd.read_csv(file_path_artist_ids)\n",
    "artist_album_ids = pd.read_csv(file_path_artist_album_ids)\n",
    "\n",
    "df_merged = pd.merge(\n",
    "    artist_ids, \n",
    "    artist_album_ids,\n",
    "    how='left',  # 使用左連接，保留 artist_ids 中的所有行\n",
    "    left_on='artist_id',  # artist_ids 中的列\n",
    "    right_on='Artist_id'   # artist_album_ids 中的列\n",
    ")\n",
    "\n",
    "df_merged.to_csv('artists_aldums.csv', index=False)"
   ]
  }
 ],
 "metadata": {
  "kernelspec": {
   "display_name": "Python 3",
   "language": "python",
   "name": "python3"
  },
  "language_info": {
   "codemirror_mode": {
    "name": "ipython",
    "version": 3
   },
   "file_extension": ".py",
   "mimetype": "text/x-python",
   "name": "python",
   "nbconvert_exporter": "python",
   "pygments_lexer": "ipython3",
   "version": "3.12.4"
  }
 },
 "nbformat": 4,
 "nbformat_minor": 2
}
