{
 "cells": [
  {
   "cell_type": "code",
   "execution_count": null,
   "metadata": {},
   "outputs": [],
   "source": [
    "pip install spotipy"
   ]
  },
  {
   "cell_type": "code",
   "execution_count": null,
   "metadata": {},
   "outputs": [],
   "source": [
    "pip install requests"
   ]
  },
  {
   "cell_type": "code",
   "execution_count": null,
   "metadata": {},
   "outputs": [],
   "source": [
    "pip install pandas"
   ]
  },
  {
   "cell_type": "code",
   "execution_count": null,
   "metadata": {},
   "outputs": [],
   "source": [
    "pip install time"
   ]
  },
  {
   "cell_type": "code",
   "execution_count": 10,
   "metadata": {},
   "outputs": [
    {
     "ename": "NameError",
     "evalue": "name 'response' is not defined",
     "output_type": "error",
     "traceback": [
      "\u001b[1;31m---------------------------------------------------------------------------\u001b[0m",
      "\u001b[1;31mNameError\u001b[0m                                 Traceback (most recent call last)",
      "Cell \u001b[1;32mIn[10], line 19\u001b[0m\n\u001b[0;32m     16\u001b[0m sp \u001b[38;5;241m=\u001b[39m spotipy\u001b[38;5;241m.\u001b[39mSpotify(client_credentials_manager\u001b[38;5;241m=\u001b[39mclient_credentials_manager)\n\u001b[0;32m     18\u001b[0m \u001b[38;5;66;03m# 獲取歌曲的音樂屬性\u001b[39;00m\n\u001b[1;32m---> 19\u001b[0m \u001b[38;5;28;01mif\u001b[39;00m \u001b[43mresponse\u001b[49m\u001b[38;5;241m.\u001b[39mstatus_code \u001b[38;5;241m==\u001b[39m \u001b[38;5;241m200\u001b[39m:\n\u001b[0;32m     20\u001b[0m     track_id \u001b[38;5;241m=\u001b[39m \u001b[38;5;124m'\u001b[39m\u001b[38;5;124mspotify:track:66g76J4BdnXocBKuajnv8E\u001b[39m\u001b[38;5;124m'\u001b[39m  \u001b[38;5;66;03m# 這是一個示例歌曲 ID\u001b[39;00m\n\u001b[0;32m     21\u001b[0m     audio_features \u001b[38;5;241m=\u001b[39m sp\u001b[38;5;241m.\u001b[39maudio_features(track_id)\n",
      "\u001b[1;31mNameError\u001b[0m: name 'response' is not defined"
     ]
    }
   ],
   "source": [
    "import spotipy\n",
    "from spotipy.oauth2 import SpotifyClientCredentials\n",
    "\n",
    "import requests\n",
    "\n",
    "import pandas as pd\n",
    "\n",
    "import time\n",
    "\n",
    "# 設置 Client ID 和 Secret\n",
    "client_id = \"45da58455f7f46d5b30b0b8a117fa452\"\n",
    "client_secret = \"7dd2efbeaecd4fd08136e682f7610f48\"\n",
    "\n",
    "# 授權\n",
    "client_credentials_manager = SpotifyClientCredentials(client_id=client_id, client_secret=client_secret)\n",
    "sp = spotipy.Spotify(client_credentials_manager=client_credentials_manager)\n",
    "\n",
    "# 獲取歌曲的音樂屬性\n",
    "if response.status_code == 200:\n",
    "    track_id = 'spotify:track:66g76J4BdnXocBKuajnv8E'  # 這是一個示例歌曲 ID\n",
    "    audio_features = sp.audio_features(track_id)\n",
    "\n",
    "    print(audio_features)\n",
    "\n",
    "elif response.status_code == 429:  # Too Many Requests\n",
    "            retry_after = int(response.headers.get(\"Retry-After\", 1))\n",
    "            print(f\"Rate limit exceeded. Retrying after {retry_after} seconds...\")\n",
    "            time.sleep(retry_after)\n",
    "        \n",
    "else:\n",
    "    print(f\"Failed to get tracks for album {album_id}. Status Code: {response.status_code}, Response: {response.text}\")\n"
   ]
  },
  {
   "cell_type": "code",
   "execution_count": 12,
   "metadata": {},
   "outputs": [
    {
     "name": "stdout",
     "output_type": "stream",
     "text": [
      "[{'danceability': 0.781, 'energy': 0.622, 'key': 4, 'loudness': -5.162, 'mode': 1, 'speechiness': 0.0428, 'acousticness': 0.583, 'instrumentalness': 0, 'liveness': 0.161, 'valence': 0.587, 'tempo': 94.005, 'type': 'audio_features', 'id': '5AwdQtK9c0ogafVxM8EWte', 'uri': 'spotify:track:5AwdQtK9c0ogafVxM8EWte', 'track_href': 'https://api.spotify.com/v1/tracks/5AwdQtK9c0ogafVxM8EWte', 'analysis_url': 'https://api.spotify.com/v1/audio-analysis/5AwdQtK9c0ogafVxM8EWte', 'duration_ms': 204907, 'time_signature': 4}]\n"
     ]
    }
   ],
   "source": [
    "import spotipy\n",
    "from spotipy.oauth2 import SpotifyClientCredentials\n",
    "import time\n",
    "\n",
    "# 設置 Client ID 和 Secret\n",
    "client_id = \"45da58455f7f46d5b30b0b8a117fa452\"\n",
    "client_secret = \"7dd2efbeaecd4fd08136e682f7610f48\"\n",
    "\n",
    "# 授權\n",
    "client_credentials_manager = SpotifyClientCredentials(client_id=client_id, client_secret=client_secret)\n",
    "sp = spotipy.Spotify(client_credentials_manager=client_credentials_manager)\n",
    "\n",
    "# 獲取歌曲的音樂屬性，並處理速率限制\n",
    "def get_audio_features(track_id):\n",
    "    while True:\n",
    "        try:\n",
    "            audio_features = sp.audio_features(track_id)\n",
    "            return audio_features\n",
    "        except spotipy.exceptions.SpotifyException as e:\n",
    "            if e.http_status == 429:  # Too Many Requests\n",
    "                retry_after = int(e.headers.get(\"Retry-After\", 1))\n",
    "                print(f\"Rate limit exceeded. Retrying after {retry_after} seconds...\")\n",
    "                time.sleep(retry_after)\n",
    "            else:\n",
    "                print(f\"Failed to get audio features. Error: {str(e)}\")\n",
    "                break\n",
    "\n",
    "# 示範查詢\n",
    "track_id = '5AwdQtK9c0ogafVxM8EWte'  # 這是一個示例歌曲 ID\n",
    "audio_features = get_audio_features(track_id)\n",
    "\n",
    "if audio_features:\n",
    "    print(audio_features)\n",
    "else:\n",
    "    print(\"No audio features found.\")"
   ]
  }
 ],
 "metadata": {
  "kernelspec": {
   "display_name": "Python 3",
   "language": "python",
   "name": "python3"
  },
  "language_info": {
   "codemirror_mode": {
    "name": "ipython",
    "version": 3
   },
   "file_extension": ".py",
   "mimetype": "text/x-python",
   "name": "python",
   "nbconvert_exporter": "python",
   "pygments_lexer": "ipython3",
   "version": "3.12.4"
  }
 },
 "nbformat": 4,
 "nbformat_minor": 2
}
