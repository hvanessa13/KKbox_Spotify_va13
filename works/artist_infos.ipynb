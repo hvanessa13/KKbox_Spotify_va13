{
 "cells": [
  {
   "cell_type": "code",
   "execution_count": null,
   "metadata": {},
   "outputs": [],
   "source": [
    "pip install requests"
   ]
  },
  {
   "cell_type": "code",
   "execution_count": null,
   "metadata": {},
   "outputs": [],
   "source": [
    "pip install pandas"
   ]
  },
  {
   "cell_type": "code",
   "execution_count": 6,
   "metadata": {},
   "outputs": [],
   "source": [
    "import requests\n",
    "import pandas as pd\n",
    "\n",
    "\n",
    "client_id = \"45da58455f7f46d5b30b0b8a117fa452\"\n",
    "client_secret = \"7dd2efbeaecd4fd08136e682f7610f48\"\n",
    "\n",
    "\n",
    "# 獲取 access_token\n",
    "def get_access_token():\n",
    "    url = \"https://accounts.spotify.com/api/token\"\n",
    "    headers = {\n",
    "        \"Content-Type\": \"application/x-www-form-urlencoded\"\n",
    "    }\n",
    "    data = {\n",
    "        \"grant_type\": \"client_credentials\"\n",
    "    }\n",
    "    response = requests.post(url, headers=headers, data=data, auth=(client_id, client_secret))\n",
    "    return response.json().get('access_token')\n",
    "\n",
    "\n",
    "# 查詢歌手 Info\n",
    "def get_artist_id(artist_name, access_token):\n",
    "    url = f\"https://api.spotify.com/v1/search?q={artist_name}&type=artist\"\n",
    "    headers = {\n",
    "        \"Authorization\": f\"Bearer {access_token}\"\n",
    "    }\n",
    "    response = requests.get(url, headers=headers)\n",
    "    \n",
    "    return response.json()\n",
    "\n",
    "\n",
    "# 主程式\n",
    "def main():\n",
    "    access_token = get_access_token()\n",
    "\n",
    "    # 讀取 CSV\n",
    "    spotify_chart_sample_data_path = r\"C:\\Users\\T14 Gen 3\\Desktop\\KKbox_Spotify_va13\\spotify_chart_sample_data.csv\"\n",
    "    df = pd.read_csv(spotify_chart_sample_data_path)\n",
    "\n",
    "    artist_infos = []\n",
    "    for artist_name in df['artist']:\n",
    "        artist_info = get_artist_id(artist_name, access_token)\n",
    "\n",
    "        artist_infos.append({\"Artist\": artist_name, \"Artist_info\": artist_info})\n",
    "        \n",
    "        # 印出結果\n",
    "        #print(f\"Artist: {artist_name}, Artist_info: {artist_info}\")\n",
    "\n",
    "    # 將查詢結果存入 DataFrame\n",
    "    df = pd.DataFrame(artist_infos)\n",
    "    df.to_json('artist_infos.json', orient='records', lines=True)\n",
    "\n",
    "\n",
    "# 執行主程式\n",
    "if __name__ == \"__main__\":\n",
    "    main()"
   ]
  }
 ],
 "metadata": {
  "kernelspec": {
   "display_name": "Python 3",
   "language": "python",
   "name": "python3"
  },
  "language_info": {
   "codemirror_mode": {
    "name": "ipython",
    "version": 3
   },
   "file_extension": ".py",
   "mimetype": "text/x-python",
   "name": "python",
   "nbconvert_exporter": "python",
   "pygments_lexer": "ipython3",
   "version": "3.12.4"
  }
 },
 "nbformat": 4,
 "nbformat_minor": 2
}
