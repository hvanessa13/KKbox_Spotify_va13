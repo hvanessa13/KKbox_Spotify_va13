{
 "cells": [
  {
   "cell_type": "code",
   "execution_count": null,
   "metadata": {},
   "outputs": [],
   "source": [
    "pip install requests"
   ]
  },
  {
   "cell_type": "code",
   "execution_count": null,
   "metadata": {},
   "outputs": [],
   "source": [
    "pip install pandas"
   ]
  },
  {
   "cell_type": "code",
   "execution_count": null,
   "metadata": {},
   "outputs": [],
   "source": [
    "pip install time"
   ]
  },
  {
   "cell_type": "code",
   "execution_count": 9,
   "metadata": {},
   "outputs": [
    {
     "name": "stdout",
     "output_type": "stream",
     "text": [
      "Rate limit exceeded. Retrying after 38630 seconds...\n"
     ]
    }
   ],
   "source": [
    "import requests\n",
    "\n",
    "import pandas as pd\n",
    "\n",
    "import time\n",
    "\n",
    "client_id = \"45da58455f7f46d5b30b0b8a117fa452\"\n",
    "client_secret = \"7dd2efbeaecd4fd08136e682f7610f48\"\n",
    "\n",
    "\n",
    "# 獲取 access_token\n",
    "def get_access_token():\n",
    "    url = \"https://accounts.spotify.com/api/token\"\n",
    "    headers = {\n",
    "        \"Content-Type\": \"application/x-www-form-urlencoded\"\n",
    "    }\n",
    "    data = {\n",
    "        \"grant_type\": \"client_credentials\"\n",
    "    }\n",
    "    response = requests.post(url, headers=headers, data=data, auth=(client_id, client_secret))\n",
    "\n",
    "    if response.status_code == 200:\n",
    "        return response.json().get('access_token')\n",
    "    else:\n",
    "        print(f\"Failed to obtain access token. Status Code: {response.status_code}, Response: {response.text}\")\n",
    "        return None\n",
    "\n",
    "\n",
    "# 查詢專輯\n",
    "def get_album_track(album_id, access_token):\n",
    "    url = f\"https://api.spotify.com/v1/albums/{album_id}/tracks?market=TW&limit=20\"\n",
    "    headers = {\n",
    "        \"Authorization\": f\"Bearer {access_token}\"\n",
    "    }\n",
    "\n",
    "    while True:\n",
    "        response = requests.get(url, headers=headers)\n",
    "\n",
    "        if response.status_code == 200:\n",
    "            data = response.json()\n",
    "            # 取得專輯歌曲\n",
    "            tracks = data.get('items', [])\n",
    "            album_tracks = []\n",
    "            for track in tracks:\n",
    "                track_id = track.get(\"id\")  # 取得歌曲 ID\n",
    "                track_name = track.get(\"name\")  # 取得歌曲 名稱\n",
    "                track_ms = track.get(\"duration_ms\") # 取得歌曲 長度\n",
    "                track_number = track.get(\"track_number\") # 取得歌曲 編號\n",
    "                album_tracks.append((track_id, track_name, track_ms, track_number))  # 將 專輯 info 添加到列表中\n",
    "            return album_tracks\n",
    "        \n",
    "        elif response.status_code == 401:  # Unauthorized, possibly due to an expired token\n",
    "            print(\"Access token expired. Refreshing token...\")\n",
    "            access_token = get_access_token()  # Get a new token\n",
    "            return get_album_track(album_id, access_token)  # Retry with new token\n",
    "        \n",
    "        elif response.status_code == 429:  # Too Many Requests\n",
    "            retry_after = int(response.headers.get(\"Retry-After\", 1))\n",
    "            print(f\"Rate limit exceeded. Retrying after {retry_after} seconds...\")\n",
    "            time.sleep(retry_after)\n",
    "        \n",
    "        else:\n",
    "            print(f\"Failed to get tracks for album {album_id}. Status Code: {response.status_code}, Response: {response.text}\")\n",
    "            return []\n",
    "\n",
    "\n",
    "# 主程式\n",
    "def main():\n",
    "    access_token = get_access_token()\n",
    "\n",
    "    if not access_token:\n",
    "        return\n",
    "\n",
    "    # 讀取 CSV\n",
    "    artist_album_ids_path = r\"C:\\Users\\T14 Gen 3\\Desktop\\KKbox_Spotify_va13\\artist_album_ids.csv\"\n",
    "    df = pd.read_csv(artist_album_ids_path)\n",
    "\n",
    "    # 將查詢結果存入 DataFrame\n",
    "    result_data = []\n",
    "    \n",
    "    for index, row in df.iterrows():\n",
    "        album_id = row[\"Artist_album_id\"]\n",
    "\n",
    "        try:\n",
    "            album_track_info = get_album_track(album_id, access_token)\n",
    "\n",
    "            if album_track_info:\n",
    "                for track_id, track_name, track_ms, track_number in album_track_info:  # 正確解包專輯 info\n",
    "                    result_data.append({\"Artist_album_id\": album_id, \"Track_id\": track_id, \"Track_name\": track_name, \"Track_ms\": track_ms, \"Track_number\": track_number})\n",
    "            else:\n",
    "                print(f\"Album ID {album_id} has no tracks.\")\n",
    "        \n",
    "        except Exception as e:\n",
    "            print(f\"Error processing album {album_id}: {e}\")\n",
    "    \n",
    "        # 添加延遲，防止達到速率限制\n",
    "        time.sleep(1)  # 每次請求後等待 1 秒\n",
    "            \n",
    "    result_df = pd.DataFrame(result_data)\n",
    "\n",
    "    # 保存結果到 CSV\n",
    "    result_csv_path = r\"C:\\Users\\T14 Gen 3\\Desktop\\KKbox_Spotify_va13\\album_tracks.csv\"\n",
    "    result_df.to_csv(result_csv_path, index=False)\n",
    "    \n",
    "\n",
    "if __name__ == \"__main__\":\n",
    "    main()"
   ]
  }
 ],
 "metadata": {
  "kernelspec": {
   "display_name": "Python 3",
   "language": "python",
   "name": "python3"
  },
  "language_info": {
   "codemirror_mode": {
    "name": "ipython",
    "version": 3
   },
   "file_extension": ".py",
   "mimetype": "text/x-python",
   "name": "python",
   "nbconvert_exporter": "python",
   "pygments_lexer": "ipython3",
   "version": "3.12.4"
  }
 },
 "nbformat": 4,
 "nbformat_minor": 2
}
